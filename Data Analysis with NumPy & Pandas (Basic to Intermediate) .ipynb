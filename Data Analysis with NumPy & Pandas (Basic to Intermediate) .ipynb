{
 "cells": [
  {
   "cell_type": "code",
   "execution_count": 1,
   "id": "d05b1c4d-ad8f-4a47-a15a-1c831d2eb7a3",
   "metadata": {},
   "outputs": [],
   "source": [
    "import pandas as pd\n",
    "import numpy as np"
   ]
  },
  {
   "cell_type": "code",
   "execution_count": 3,
   "id": "a4cfce8c-81ff-4fdc-a7a2-7bc45a52f184",
   "metadata": {},
   "outputs": [],
   "source": [
    "# Create a 1D array\n",
    "array_1d = np.array([1, 2, 3, 4, 5])\n",
    "\n",
    "# Create a 2D array\n",
    "array_2d = np.array([[1, 2, 3], [4, 5, 6]])\n"
   ]
  },
  {
   "cell_type": "code",
   "execution_count": 4,
   "id": "ebe5dc67-fabe-4daa-bb1e-154f4295042f",
   "metadata": {},
   "outputs": [
    {
     "data": {
      "text/plain": [
       "array([1, 2, 3, 4, 5])"
      ]
     },
     "execution_count": 4,
     "metadata": {},
     "output_type": "execute_result"
    }
   ],
   "source": [
    "array_1d"
   ]
  },
  {
   "cell_type": "code",
   "execution_count": 5,
   "id": "dd78c66a-f732-4535-ae53-933082d126ae",
   "metadata": {},
   "outputs": [
    {
     "data": {
      "text/plain": [
       "array([[1, 2, 3],\n",
       "       [4, 5, 6]])"
      ]
     },
     "execution_count": 5,
     "metadata": {},
     "output_type": "execute_result"
    }
   ],
   "source": [
    "array_2d"
   ]
  },
  {
   "cell_type": "code",
   "execution_count": 6,
   "id": "9ec2e372-605c-4067-8ff7-6a4b4ee51b18",
   "metadata": {},
   "outputs": [],
   "source": [
    "# Sum\n",
    "sum_1d = np.sum(array_1d)\n",
    "sum_2d = np.sum(array_2d)\n",
    "\n",
    "# Mean\n",
    "mean_1d = np.mean(array_1d)\n",
    "mean_2d = np.mean(array_2d)\n",
    "\n",
    "# Max\n",
    "max_1d = np.max(array_1d)\n",
    "max_2d = np.max(array_2d)\n",
    "\n",
    "# Reshape\n",
    "reshaped_array = np.reshape(array_1d, (5, 1))  # from (5,) to (5,1)\n"
   ]
  },
  {
   "cell_type": "code",
   "execution_count": 7,
   "id": "9acabc1e-20cd-4cb8-af22-ba59eade7639",
   "metadata": {},
   "outputs": [
    {
     "data": {
      "text/plain": [
       "np.int64(15)"
      ]
     },
     "execution_count": 7,
     "metadata": {},
     "output_type": "execute_result"
    }
   ],
   "source": [
    "sum_1d"
   ]
  },
  {
   "cell_type": "code",
   "execution_count": 8,
   "id": "bdac3e0d-531c-44a3-8fae-9a68354849f0",
   "metadata": {},
   "outputs": [
    {
     "data": {
      "text/plain": [
       "np.int64(21)"
      ]
     },
     "execution_count": 8,
     "metadata": {},
     "output_type": "execute_result"
    }
   ],
   "source": [
    "sum_2d"
   ]
  },
  {
   "cell_type": "code",
   "execution_count": 9,
   "id": "05dede16-4976-4428-9a63-b0b11f03d6ed",
   "metadata": {},
   "outputs": [
    {
     "data": {
      "text/plain": [
       "np.float64(3.0)"
      ]
     },
     "execution_count": 9,
     "metadata": {},
     "output_type": "execute_result"
    }
   ],
   "source": [
    "mean_1d"
   ]
  },
  {
   "cell_type": "code",
   "execution_count": 10,
   "id": "21f92632-a48a-4761-9860-c7da8bbfb23c",
   "metadata": {},
   "outputs": [
    {
     "data": {
      "text/plain": [
       "np.float64(3.5)"
      ]
     },
     "execution_count": 10,
     "metadata": {},
     "output_type": "execute_result"
    }
   ],
   "source": [
    "mean_2d"
   ]
  },
  {
   "cell_type": "code",
   "execution_count": 11,
   "id": "e3de909e-8249-4c02-9ddd-b7d78e39755f",
   "metadata": {},
   "outputs": [
    {
     "data": {
      "text/plain": [
       "np.int64(5)"
      ]
     },
     "execution_count": 11,
     "metadata": {},
     "output_type": "execute_result"
    }
   ],
   "source": [
    "max_1d"
   ]
  },
  {
   "cell_type": "code",
   "execution_count": 12,
   "id": "893b152c-0f08-40a3-a52d-e95e9c3b266a",
   "metadata": {},
   "outputs": [
    {
     "data": {
      "text/plain": [
       "np.int64(6)"
      ]
     },
     "execution_count": 12,
     "metadata": {},
     "output_type": "execute_result"
    }
   ],
   "source": [
    "max_2d"
   ]
  },
  {
   "cell_type": "code",
   "execution_count": 13,
   "id": "08a94b6b-efeb-4b6b-aae3-618d19f08f87",
   "metadata": {},
   "outputs": [
    {
     "data": {
      "text/plain": [
       "array([[1],\n",
       "       [2],\n",
       "       [3],\n",
       "       [4],\n",
       "       [5]])"
      ]
     },
     "execution_count": 13,
     "metadata": {},
     "output_type": "execute_result"
    }
   ],
   "source": [
    "reshaped_array"
   ]
  },
  {
   "cell_type": "code",
   "execution_count": 14,
   "id": "bf1e1575-2d31-46bf-8d20-4fc9a8703945",
   "metadata": {},
   "outputs": [
    {
     "name": "stdout",
     "output_type": "stream",
     "text": [
      "1D Array: [1 2 3 4 5]\n",
      "2D Array:\n",
      " [[1 2 3]\n",
      " [4 5 6]]\n",
      "Sum of 1D Array: 15\n",
      "Mean of 2D Array: 3.5\n",
      "Max of 1D Array: 5\n",
      "Reshaped Array:\n",
      " [[1]\n",
      " [2]\n",
      " [3]\n",
      " [4]\n",
      " [5]]\n"
     ]
    }
   ],
   "source": [
    "print(\"1D Array:\", array_1d)\n",
    "print(\"2D Array:\\n\", array_2d)\n",
    "print(\"Sum of 1D Array:\", sum_1d)\n",
    "print(\"Mean of 2D Array:\", mean_2d)\n",
    "print(\"Max of 1D Array:\", max_1d)\n",
    "print(\"Reshaped Array:\\n\", reshaped_array)"
   ]
  },
  {
   "cell_type": "code",
   "execution_count": 17,
   "id": "fad7fcab-98ed-4916-aef5-db6938e833fe",
   "metadata": {},
   "outputs": [],
   "source": [
    "# Load CSV File"
   ]
  },
  {
   "cell_type": "code",
   "execution_count": 2,
   "id": "371a861a-7129-47b2-8122-ea015f70ff25",
   "metadata": {},
   "outputs": [],
   "source": [
    "df = pd.read_csv('Titanic-Dataset.csv')"
   ]
  },
  {
   "cell_type": "code",
   "execution_count": 3,
   "id": "ef312205-42a3-476a-ad3b-8d9f91d1a53b",
   "metadata": {},
   "outputs": [],
   "source": [
    "# Display the First 10 Rows"
   ]
  },
  {
   "cell_type": "code",
   "execution_count": 4,
   "id": "821e76d6-9f7a-4743-b37f-933a3424e57a",
   "metadata": {},
   "outputs": [
    {
     "name": "stdout",
     "output_type": "stream",
     "text": [
      "   PassengerId  Survived  Pclass  \\\n",
      "0            1         0       3   \n",
      "1            2         1       1   \n",
      "2            3         1       3   \n",
      "3            4         1       1   \n",
      "4            5         0       3   \n",
      "5            6         0       3   \n",
      "6            7         0       1   \n",
      "7            8         0       3   \n",
      "8            9         1       3   \n",
      "9           10         1       2   \n",
      "\n",
      "                                                Name     Sex   Age  SibSp  \\\n",
      "0                            Braund, Mr. Owen Harris    male  22.0      1   \n",
      "1  Cumings, Mrs. John Bradley (Florence Briggs Th...  female  38.0      1   \n",
      "2                             Heikkinen, Miss. Laina  female  26.0      0   \n",
      "3       Futrelle, Mrs. Jacques Heath (Lily May Peel)  female  35.0      1   \n",
      "4                           Allen, Mr. William Henry    male  35.0      0   \n",
      "5                                   Moran, Mr. James    male   NaN      0   \n",
      "6                            McCarthy, Mr. Timothy J    male  54.0      0   \n",
      "7                     Palsson, Master. Gosta Leonard    male   2.0      3   \n",
      "8  Johnson, Mrs. Oscar W (Elisabeth Vilhelmina Berg)  female  27.0      0   \n",
      "9                Nasser, Mrs. Nicholas (Adele Achem)  female  14.0      1   \n",
      "\n",
      "   Parch            Ticket     Fare Cabin Embarked  \n",
      "0      0         A/5 21171   7.2500   NaN        S  \n",
      "1      0          PC 17599  71.2833   C85        C  \n",
      "2      0  STON/O2. 3101282   7.9250   NaN        S  \n",
      "3      0            113803  53.1000  C123        S  \n",
      "4      0            373450   8.0500   NaN        S  \n",
      "5      0            330877   8.4583   NaN        Q  \n",
      "6      0             17463  51.8625   E46        S  \n",
      "7      1            349909  21.0750   NaN        S  \n",
      "8      2            347742  11.1333   NaN        S  \n",
      "9      0            237736  30.0708   NaN        C  \n"
     ]
    }
   ],
   "source": [
    "print(df.head(10))"
   ]
  },
  {
   "cell_type": "code",
   "execution_count": 31,
   "id": "a40408e2-a071-4c7d-b795-34b02230306d",
   "metadata": {},
   "outputs": [],
   "source": [
    "# Display Column Names"
   ]
  },
  {
   "cell_type": "code",
   "execution_count": 32,
   "id": "5d7f26d4-fe26-4237-9fcb-ae59c831e362",
   "metadata": {},
   "outputs": [
    {
     "name": "stdout",
     "output_type": "stream",
     "text": [
      "Column names: ['PassengerId', 'Survived', 'Pclass', 'Name', 'Sex', 'Age', 'SibSp', 'Parch', 'Ticket', 'Fare', 'Cabin', 'Embarked']\n"
     ]
    }
   ],
   "source": [
    "print(\"Column names:\", df.columns.tolist())"
   ]
  },
  {
   "cell_type": "code",
   "execution_count": 33,
   "id": "299d8606-2088-43da-88c5-79773e54d34a",
   "metadata": {},
   "outputs": [],
   "source": [
    "# Check for Null Values"
   ]
  },
  {
   "cell_type": "code",
   "execution_count": 34,
   "id": "e685bfcb-4330-4c90-b5cd-2d1418edc5e0",
   "metadata": {},
   "outputs": [
    {
     "name": "stdout",
     "output_type": "stream",
     "text": [
      "Null values per column:\n",
      " PassengerId      0\n",
      "Survived         0\n",
      "Pclass           0\n",
      "Name             0\n",
      "Sex              0\n",
      "Age            177\n",
      "SibSp            0\n",
      "Parch            0\n",
      "Ticket           0\n",
      "Fare             0\n",
      "Cabin          687\n",
      "Embarked         2\n",
      "dtype: int64\n"
     ]
    }
   ],
   "source": [
    "print(\"Null values per column:\\n\", df.isnull().sum())"
   ]
  },
  {
   "cell_type": "code",
   "execution_count": 35,
   "id": "df235ff1-696b-499a-9fcb-f548c4a76cb4",
   "metadata": {},
   "outputs": [],
   "source": [
    "# Filter Rows Where Age > 30"
   ]
  },
  {
   "cell_type": "code",
   "execution_count": 36,
   "id": "12796d55-f547-4339-afd4-e6a5d2e29074",
   "metadata": {},
   "outputs": [],
   "source": [
    "filtered_df = df[df['Age'] > 30]"
   ]
  },
  {
   "cell_type": "code",
   "execution_count": 38,
   "id": "f9fcc4b5-0d51-4485-b27d-14d39bcd2f6d",
   "metadata": {},
   "outputs": [
    {
     "data": {
      "text/html": [
       "<div>\n",
       "<style scoped>\n",
       "    .dataframe tbody tr th:only-of-type {\n",
       "        vertical-align: middle;\n",
       "    }\n",
       "\n",
       "    .dataframe tbody tr th {\n",
       "        vertical-align: top;\n",
       "    }\n",
       "\n",
       "    .dataframe thead th {\n",
       "        text-align: right;\n",
       "    }\n",
       "</style>\n",
       "<table border=\"1\" class=\"dataframe\">\n",
       "  <thead>\n",
       "    <tr style=\"text-align: right;\">\n",
       "      <th></th>\n",
       "      <th>PassengerId</th>\n",
       "      <th>Survived</th>\n",
       "      <th>Pclass</th>\n",
       "      <th>Name</th>\n",
       "      <th>Sex</th>\n",
       "      <th>Age</th>\n",
       "      <th>SibSp</th>\n",
       "      <th>Parch</th>\n",
       "      <th>Ticket</th>\n",
       "      <th>Fare</th>\n",
       "      <th>Cabin</th>\n",
       "      <th>Embarked</th>\n",
       "    </tr>\n",
       "  </thead>\n",
       "  <tbody>\n",
       "    <tr>\n",
       "      <th>1</th>\n",
       "      <td>2</td>\n",
       "      <td>1</td>\n",
       "      <td>1</td>\n",
       "      <td>Cumings, Mrs. John Bradley (Florence Briggs Th...</td>\n",
       "      <td>female</td>\n",
       "      <td>38.0</td>\n",
       "      <td>1</td>\n",
       "      <td>0</td>\n",
       "      <td>PC 17599</td>\n",
       "      <td>71.2833</td>\n",
       "      <td>C85</td>\n",
       "      <td>C</td>\n",
       "    </tr>\n",
       "    <tr>\n",
       "      <th>3</th>\n",
       "      <td>4</td>\n",
       "      <td>1</td>\n",
       "      <td>1</td>\n",
       "      <td>Futrelle, Mrs. Jacques Heath (Lily May Peel)</td>\n",
       "      <td>female</td>\n",
       "      <td>35.0</td>\n",
       "      <td>1</td>\n",
       "      <td>0</td>\n",
       "      <td>113803</td>\n",
       "      <td>53.1000</td>\n",
       "      <td>C123</td>\n",
       "      <td>S</td>\n",
       "    </tr>\n",
       "    <tr>\n",
       "      <th>4</th>\n",
       "      <td>5</td>\n",
       "      <td>0</td>\n",
       "      <td>3</td>\n",
       "      <td>Allen, Mr. William Henry</td>\n",
       "      <td>male</td>\n",
       "      <td>35.0</td>\n",
       "      <td>0</td>\n",
       "      <td>0</td>\n",
       "      <td>373450</td>\n",
       "      <td>8.0500</td>\n",
       "      <td>NaN</td>\n",
       "      <td>S</td>\n",
       "    </tr>\n",
       "    <tr>\n",
       "      <th>6</th>\n",
       "      <td>7</td>\n",
       "      <td>0</td>\n",
       "      <td>1</td>\n",
       "      <td>McCarthy, Mr. Timothy J</td>\n",
       "      <td>male</td>\n",
       "      <td>54.0</td>\n",
       "      <td>0</td>\n",
       "      <td>0</td>\n",
       "      <td>17463</td>\n",
       "      <td>51.8625</td>\n",
       "      <td>E46</td>\n",
       "      <td>S</td>\n",
       "    </tr>\n",
       "    <tr>\n",
       "      <th>11</th>\n",
       "      <td>12</td>\n",
       "      <td>1</td>\n",
       "      <td>1</td>\n",
       "      <td>Bonnell, Miss. Elizabeth</td>\n",
       "      <td>female</td>\n",
       "      <td>58.0</td>\n",
       "      <td>0</td>\n",
       "      <td>0</td>\n",
       "      <td>113783</td>\n",
       "      <td>26.5500</td>\n",
       "      <td>C103</td>\n",
       "      <td>S</td>\n",
       "    </tr>\n",
       "  </tbody>\n",
       "</table>\n",
       "</div>"
      ],
      "text/plain": [
       "    PassengerId  Survived  Pclass  \\\n",
       "1             2         1       1   \n",
       "3             4         1       1   \n",
       "4             5         0       3   \n",
       "6             7         0       1   \n",
       "11           12         1       1   \n",
       "\n",
       "                                                 Name     Sex   Age  SibSp  \\\n",
       "1   Cumings, Mrs. John Bradley (Florence Briggs Th...  female  38.0      1   \n",
       "3        Futrelle, Mrs. Jacques Heath (Lily May Peel)  female  35.0      1   \n",
       "4                            Allen, Mr. William Henry    male  35.0      0   \n",
       "6                             McCarthy, Mr. Timothy J    male  54.0      0   \n",
       "11                           Bonnell, Miss. Elizabeth  female  58.0      0   \n",
       "\n",
       "    Parch    Ticket     Fare Cabin Embarked  \n",
       "1       0  PC 17599  71.2833   C85        C  \n",
       "3       0    113803  53.1000  C123        S  \n",
       "4       0    373450   8.0500   NaN        S  \n",
       "6       0     17463  51.8625   E46        S  \n",
       "11      0    113783  26.5500  C103        S  "
      ]
     },
     "execution_count": 38,
     "metadata": {},
     "output_type": "execute_result"
    }
   ],
   "source": [
    "filtered_df.head()"
   ]
  },
  {
   "cell_type": "code",
   "execution_count": 5,
   "id": "425dcdaf-540b-46fd-a775-06483e70195b",
   "metadata": {},
   "outputs": [
    {
     "name": "stdout",
     "output_type": "stream",
     "text": [
      "                  mean   median  \\\n",
      "PassengerId      446.0    446.0   \n",
      "Survived      0.383838      0.0   \n",
      "Pclass        2.308642      3.0   \n",
      "Age          29.699118     28.0   \n",
      "SibSp         0.523008      0.0   \n",
      "Parch         0.381594      0.0   \n",
      "Fare         32.204208  14.4542   \n",
      "\n",
      "                                                          mode   min       max  \n",
      "PassengerId  [1, 2, 3, 4, 5, 6, 7, 8, 9, 10, 11, 12, 13, 14...     1       891  \n",
      "Survived                                                   [0]     0         1  \n",
      "Pclass                                                     [3]     1         3  \n",
      "Age                                                     [24.0]  0.42      80.0  \n",
      "SibSp                                                      [0]     0         8  \n",
      "Parch                                                      [0]     0         6  \n",
      "Fare                                                    [8.05]   0.0  512.3292  \n"
     ]
    }
   ],
   "source": [
    "import pandas as pd\n",
    "\n",
    "# Load Titanic dataset\n",
    "df = pd.read_csv('Titanic-Dataset.csv')  \n",
    "\n",
    "# Select numerical columns for analysis\n",
    "numerical_columns = df.select_dtypes(include='number')\n",
    "\n",
    "# Initialize an empty dictionary to store the results\n",
    "stats = {}\n",
    "\n",
    "# Compute statistics for each numerical column\n",
    "for column in numerical_columns.columns:\n",
    "    stats[column] = {\n",
    "        'mean': numerical_columns[column].mean(),\n",
    "        'median': numerical_columns[column].median(),\n",
    "        'mode': numerical_columns[column].mode().tolist(),  # Mode can return multiple values\n",
    "        'min': numerical_columns[column].min(),\n",
    "        'max': numerical_columns[column].max()\n",
    "    }\n",
    "\n",
    "# Convert to a DataFrame for better readability\n",
    "stats_df = pd.DataFrame(stats).T  # Transpose for cleaner layout\n",
    "\n",
    "# Display the result\n",
    "print(stats_df)\n"
   ]
  },
  {
   "cell_type": "code",
   "execution_count": 12,
   "id": "2954d808-245c-4ca0-9853-3150812df6b3",
   "metadata": {},
   "outputs": [
    {
     "name": "stdout",
     "output_type": "stream",
     "text": [
      "Columns with missing values:\n",
      " Age         177\n",
      "Cabin       687\n",
      "Embarked      2\n",
      "dtype: int64\n"
     ]
    },
    {
     "name": "stderr",
     "output_type": "stream",
     "text": [
      "C:\\Users\\Home\\AppData\\Local\\Temp\\ipykernel_1524\\3379891083.py:14: FutureWarning: A value is trying to be set on a copy of a DataFrame or Series through chained assignment using an inplace method.\n",
      "The behavior will change in pandas 3.0. This inplace method will never work because the intermediate object on which we are setting values always behaves as a copy.\n",
      "\n",
      "For example, when doing 'df[col].method(value, inplace=True)', try using 'df.method({col: value}, inplace=True)' or df[col] = df[col].method(value) instead, to perform the operation inplace on the original object.\n",
      "\n",
      "\n",
      "  df_filled_mean[col].fillna(df_filled_mean[col].mean(), inplace=True)\n"
     ]
    }
   ],
   "source": [
    "import pandas as pd\n",
    "\n",
    "# Load the Titanic dataset\n",
    "df = pd.read_csv('Titanic-Dataset.csv')\n",
    "\n",
    "# -------------------------\n",
    "# 1. Fill missing numeric values with the mean\n",
    "# -------------------------\n",
    "df_filled_mean = df.copy()\n",
    "numeric_cols = df_filled_mean.select_dtypes(include='number').columns\n",
    "\n",
    "for col in numeric_cols:\n",
    "    if df_filled_mean[col].isnull().sum() > 0:\n",
    "        df_filled_mean[col].fillna(df_filled_mean[col].mean(), inplace=True)\n",
    "\n",
    "# -------------------------\n",
    "# 2. Remove rows with any null values\n",
    "# -------------------------\n",
    "df_no_nulls = df.dropna()\n",
    "\n",
    "# -------------------------\n",
    "# 3. Drop columns with any null values\n",
    "# -------------------------\n",
    "df_drop_cols = df.dropna(axis=1)\n",
    "\n",
    "# -------------------------\n",
    "# Show which columns had nulls\n",
    "# -------------------------\n",
    "null_counts = df.isnull().sum()\n",
    "print(\"Columns with missing values:\\n\", null_counts[null_counts > 0])\n",
    "\n"
   ]
  },
  {
   "cell_type": "code",
   "execution_count": null,
   "id": "e2d7e46f-64ed-4dd8-b3db-6a93a8e23b5f",
   "metadata": {},
   "outputs": [],
   "source": []
  }
 ],
 "metadata": {
  "kernelspec": {
   "display_name": "Python 3 (ipykernel)",
   "language": "python",
   "name": "python3"
  },
  "language_info": {
   "codemirror_mode": {
    "name": "ipython",
    "version": 3
   },
   "file_extension": ".py",
   "mimetype": "text/x-python",
   "name": "python",
   "nbconvert_exporter": "python",
   "pygments_lexer": "ipython3",
   "version": "3.13.5"
  }
 },
 "nbformat": 4,
 "nbformat_minor": 5
}
